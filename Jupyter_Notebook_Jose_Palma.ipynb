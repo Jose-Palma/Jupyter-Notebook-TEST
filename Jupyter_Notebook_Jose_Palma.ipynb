{
 "cells": [
  {
   "cell_type": "markdown",
   "metadata": {},
   "source": [
    "<center>\n",
    "    <img src=\"https://cf-courses-data.s3.us.cloud-object-storage.appdomain.cloud/IBMDeveloperSkillsNetwork-DS0105EN-SkillsNetwork/labs/Module2/images/SN_web_lightmode.png\" width=\"300\" alt=\"cognitiveclass.ai logo\">\n",
    "</center>\n"
   ]
  },
  {
   "cell_type": "markdown",
   "metadata": {},
   "source": [
    "#### Add your code below following the instructions given in the course\n"
   ]
  },
  {
   "cell_type": "markdown",
   "metadata": {},
   "source": [
    "<h1>My Jupyter Notebook on IBM Watson Studio</h1>"
   ]
  },
  {
   "cell_type": "markdown",
   "metadata": {},
   "source": [
    "<p><b>Hello my name is Jose</b></p>\n",
    "<p>I am a civil industrial engineer.</p>"
   ]
  },
  {
   "cell_type": "markdown",
   "metadata": {},
   "source": [
    "<p><i>I am interested in data science because I find quite intresting transforming data and obtaning usefull insights from it.</i></p>"
   ]
  },
  {
   "cell_type": "markdown",
   "metadata": {},
   "source": [
    "<h3>In the next cell im going to add 1 plus 1</h3>"
   ]
  },
  {
   "cell_type": "code",
   "execution_count": 1,
   "metadata": {},
   "outputs": [
    {
     "data": {
      "text/plain": [
       "2"
      ]
     },
     "execution_count": 1,
     "metadata": {},
     "output_type": "execute_result"
    }
   ],
   "source": [
    "1+1"
   ]
  },
  {
   "cell_type": "markdown",
   "metadata": {},
   "source": [
    "<p>This cell contains an embedded image form the following <a href=\"https://i.imgur.com/ttHkJBI.jpg\">LINK</a></p>\n",
    "\n",
    "\n",
    "<p><img src=\"https://i.imgur.com/ttHkJBI.jpg\" width=\"300\" alt=\"Bread Doge\"></p>\n",
    "\n",
    "<hr>\n",
    "\n",
    "<p>Sorry my bad, <a href=\"https://i.imgur.com/ttHkJBI.jpg\"><s>NOT THIS LINK</s></a>, I meant <a href=\"https://i.imgur.com/ZHW9yND.png\">THIS ONE</a>\n",
    "\n",
    "<img src=\"https://i.imgur.com/ZHW9yND.png\" width=\"300\" alt=\"Cool Doge\"></p>\n",
    "\n"
   ]
  }
 ],
 "metadata": {
  "kernelspec": {
   "display_name": "Python",
   "language": "python",
   "name": "conda-env-python-py"
  },
  "language_info": {
   "codemirror_mode": {
    "name": "ipython",
    "version": 3
   },
   "file_extension": ".py",
   "mimetype": "text/x-python",
   "name": "python",
   "nbconvert_exporter": "python",
   "pygments_lexer": "ipython3",
   "version": "3.7.12"
  }
 },
 "nbformat": 4,
 "nbformat_minor": 4
}
